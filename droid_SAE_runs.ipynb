{
 "cells": [
  {
   "cell_type": "markdown",
   "id": "a9040451",
   "metadata": {},
   "source": [
    "# Droid PaliGemma SAE Training"
   ]
  },
  {
   "cell_type": "markdown",
   "id": "1e229ce0",
   "metadata": {},
   "source": [
    "### Import libraries and define SAE class"
   ]
  },
  {
   "cell_type": "code",
   "execution_count": 1,
   "id": "a51d582a-23d9-40ac-8dbb-e86e940d203a",
   "metadata": {
    "scrolled": true
   },
   "outputs": [
    {
     "name": "stderr",
     "output_type": "stream",
     "text": [
      "2025-05-05 01:55:54.411792: I tensorflow/core/util/port.cc:153] oneDNN custom operations are on. You may see slightly different numerical results due to floating-point round-off errors from different computation orders. To turn them off, set the environment variable `TF_ENABLE_ONEDNN_OPTS=0`.\n",
      "2025-05-05 01:55:54.432422: E external/local_xla/xla/stream_executor/cuda/cuda_fft.cc:467] Unable to register cuFFT factory: Attempting to register factory for plugin cuFFT when one has already been registered\n",
      "WARNING: All log messages before absl::InitializeLog() is called are written to STDERR\n",
      "E0000 00:00:1746410154.455788 1195932 cuda_dnn.cc:8579] Unable to register cuDNN factory: Attempting to register factory for plugin cuDNN when one has already been registered\n",
      "E0000 00:00:1746410154.463393 1195932 cuda_blas.cc:1407] Unable to register cuBLAS factory: Attempting to register factory for plugin cuBLAS when one has already been registered\n",
      "W0000 00:00:1746410154.481826 1195932 computation_placer.cc:177] computation placer already registered. Please check linkage and avoid linking the same target more than once.\n",
      "W0000 00:00:1746410154.481847 1195932 computation_placer.cc:177] computation placer already registered. Please check linkage and avoid linking the same target more than once.\n",
      "W0000 00:00:1746410154.481850 1195932 computation_placer.cc:177] computation placer already registered. Please check linkage and avoid linking the same target more than once.\n",
      "W0000 00:00:1746410154.481852 1195932 computation_placer.cc:177] computation placer already registered. Please check linkage and avoid linking the same target more than once.\n",
      "2025-05-05 01:55:54.487604: I tensorflow/core/platform/cpu_feature_guard.cc:210] This TensorFlow binary is optimized to use available CPU instructions in performance-critical operations.\n",
      "To enable the following instructions: AVX2 AVX512F AVX512_VNNI FMA, in other operations, rebuild TensorFlow with the appropriate compiler flags.\n"
     ]
    },
    {
     "name": "stdout",
     "output_type": "stream",
     "text": [
      "Using device: cuda:0\n"
     ]
    }
   ],
   "source": [
    "import os\n",
    "os.environ[\"CUDA_VISIBLE_DEVICES\"] = \"0,1\"\n",
    "# this is to only use GPUs 0 and 1\n",
    "import torch\n",
    "import tensorflow as tf\n",
    "import tensorflow_datasets as tfds\n",
    "from concurrent.futures import ThreadPoolExecutor\n",
    "from torchvision.utils import make_grid\n",
    "import requests\n",
    "from transformers import AutoProcessor, PaliGemmaForConditionalGeneration\n",
    "from datasets import load_dataset\n",
    "from torch import nn, Tensor\n",
    "from torch.utils.data import DataLoader, Subset\n",
    "from tqdm import tqdm\n",
    "import matplotlib.pyplot as plt\n",
    "import numpy as np\n",
    "import gc\n",
    "import wandb\n",
    "from datetime import datetime\n",
    "import torch.nn as nn\n",
    "from torch.cuda.amp import autocast\n",
    "import multiprocessing as mp\n",
    "from datasets import Dataset\n",
    "import numpy as np\n",
    "from PIL import Image\n",
    "from IPython import display\n",
    "import csv\n",
    "import sys\n",
    "\n",
    "class SparseAutoencoder(nn.Module):\n",
    "    def __init__(self, d_in, d_hidden):\n",
    "        super().__init__()\n",
    "        self.encoder = nn.Linear(d_in, d_hidden)\n",
    "        self.activation = nn.ReLU()\n",
    "        self.decoder = nn.Linear(d_hidden, d_in)\n",
    "\n",
    "    def forward(self, x):\n",
    "        z = self.activation(self.encoder(x))\n",
    "        x_recon = self.decoder(z)\n",
    "        return x_recon, z\n",
    "\n",
    "dtype = torch.float16\n",
    "\n",
    "device = \"cuda:0\" if torch.cuda.is_available() else \"cpu\"\n",
    "print(f\"Using device: {device}\")"
   ]
  },
  {
   "cell_type": "markdown",
   "id": "63c8b484-d839-4868-b8ed-1313f8e59320",
   "metadata": {},
   "source": [
    "### Load Droid Dataset\n",
    "\n",
    "There are three options of datasets to collect activations then run SAE on. \n",
    "\n",
    "1) All episodes, 20 frames each, equally spaced out: \"100_episodes_20_frames_each.pt\"\n",
    "2) 10 episodes, all frames \"10_episodes_all_frames.pt\"\n",
    "3) A collage of 6 equally spaced frames in one image--100 images total. \"droid_collages_896.pt\"\n",
    "\n",
    "Choose the path that you want. "
   ]
  },
  {
   "cell_type": "code",
   "execution_count": 2,
   "id": "cd32712b-75ec-4de9-ae94-8d346a9525a5",
   "metadata": {},
   "outputs": [
    {
     "name": "stdout",
     "output_type": "stream",
     "text": [
      "Using dataset: droid_datasets/100_episodes_4_frames_each.pt\n",
      "Loaded dataset: droid_datasets/100_episodes_4_frames_each.pt\n"
     ]
    },
    {
     "name": "stderr",
     "output_type": "stream",
     "text": [
      "/tmp/ipykernel_1195932/2826579454.py:14: FutureWarning: You are using `torch.load` with `weights_only=False` (the current default value), which uses the default pickle module implicitly. It is possible to construct malicious pickle data which will execute arbitrary code during unpickling (See https://github.com/pytorch/pytorch/blob/main/SECURITY.md#untrusted-models for more details). In a future release, the default value for `weights_only` will be flipped to `True`. This limits the functions that could be executed during unpickling. Arbitrary objects will no longer be allowed to be loaded via this mode unless they are explicitly allowlisted by the user via `torch.serialization.add_safe_globals`. We recommend you start setting `weights_only=True` for any use case where you don't have full control of the loaded file. Please open an issue on GitHub for any issues related to this experimental feature.\n",
      "  data = torch.load(path)\n"
     ]
    }
   ],
   "source": [
    "DATASET_DIR = \"droid_datasets\"  # root directory for datasets\n",
    "\n",
    "available_datasets = {1: \"100_episodes_4_frames_each.pt\", 2: \"10_episodes_all_frames.pt\", 3: \"droid_collages_896.pt\"}\n",
    "\n",
    "# look at above cell for options\n",
    "chosen_dataset = 1\n",
    "\n",
    "dataset_path = os.path.join(DATASET_DIR, available_datasets[chosen_dataset])\n",
    "print(f\"Using dataset: {dataset_path}\")\n",
    "CAPTION_PROMPT = \"describe the task the robot is taking:\"\n",
    "\n",
    "class DroidDataset(torch.utils.data.Dataset):\n",
    "    def __init__(self, path):\n",
    "        data = torch.load(path)\n",
    "        self.images = data[\"images\"]\n",
    "        # self.prompts = data[\"prompts\"]\n",
    "        # Describe image prompt \n",
    "        self.prompts = [CAPTION_PROMPT for _ in self.images]\n",
    "\n",
    "    def __len__(self):\n",
    "        return len(self.prompts)\n",
    "\n",
    "    def __getitem__(self, idx):\n",
    "        return {\n",
    "            \"image\": self.images[idx],\n",
    "            \"prompt\": self.prompts[idx]\n",
    "        }\n",
    "dataset = DroidDataset(path=dataset_path)\n",
    "print(f\"Loaded dataset: {dataset_path}\")"
   ]
  },
  {
   "cell_type": "markdown",
   "id": "4e2f8bac",
   "metadata": {},
   "source": [
    "### Load VLM model\n",
    "\n",
    "There are three options VLAs to choose from:\n",
    "\n",
    "1) Base Paligemma Model: \"base\"\n",
    "2) Finetuned with single images to generate the task instruction: \"finetuned_single\"\n",
    "3) Finetuned with collated images to generate the task instruction: \"finetuned_collage\""
   ]
  },
  {
   "cell_type": "code",
   "execution_count": 3,
   "id": "f77cbc5e-a5d0-425c-8c2f-043631542dbc",
   "metadata": {
    "scrolled": true
   },
   "outputs": [
    {
     "name": "stderr",
     "output_type": "stream",
     "text": [
      "Using a slow image processor as `use_fast` is unset and a slow processor was saved with this model. `use_fast=True` will be the default behavior in v4.52, even if the model was saved with a slow processor. This will result in minor differences in outputs. You'll still be able to use a slow processor with `use_fast=False`.\n"
     ]
    },
    {
     "data": {
      "application/vnd.jupyter.widget-view+json": {
       "model_id": "17f99680d07f4238bf1766edaf6bd6c8",
       "version_major": 2,
       "version_minor": 0
      },
      "text/plain": [
       "Loading checkpoint shards:   0%|          | 0/3 [00:00<?, ?it/s]"
      ]
     },
     "metadata": {},
     "output_type": "display_data"
    },
    {
     "name": "stdout",
     "output_type": "stream",
     "text": [
      "Loaded model: base\n"
     ]
    }
   ],
   "source": [
    "# MODEL_ID = \"google/paligemma2-3b-pt-896\"\n",
    "MODEL_ID = \"google/paligemma-3b-mix-224\"\n",
    "FINETUNE_PATH_SINGLE = \"/home/henrytsai/dhruv/roboterp/finetuned_paligemma_single.pt\"\n",
    "FINETUNE_PATH_COLLAGE = \"/home/henrytsai/dhruv/roboterp/finetuned_paligemma.pt\"\n",
    "\n",
    "available_models = {\n",
    "    \"base\": {\"model_id\": MODEL_ID, \"finetuned\": False},\n",
    "    \"finetuned_single\": {\"model_id\": MODEL_ID, \"finetuned\": True, \"path\": FINETUNE_PATH_SINGLE},\n",
    "    \"finetuned_collage\": {\"model_id\": MODEL_ID, \"finetuned\": True, \"path\": FINETUNE_PATH_COLLAGE},\n",
    "}\n",
    "\n",
    "chosen_model = \"base\" \n",
    "\n",
    "model_info = available_models[chosen_model]\n",
    "processor = AutoProcessor.from_pretrained(model_info[\"model_id\"])\n",
    "\n",
    "model = PaliGemmaForConditionalGeneration.from_pretrained(\n",
    "    model_info[\"model_id\"],\n",
    "    torch_dtype=dtype\n",
    ").to(device)\n",
    "\n",
    "if model_info.get(\"finetuned\", False):\n",
    "    checkpoint = torch.load(model_info[\"path\"], map_location=device)\n",
    "    model.load_state_dict(checkpoint)\n",
    "\n",
    "model.eval()\n",
    "print(f\"Loaded model: {chosen_model}\")"
   ]
  },
  {
   "cell_type": "code",
   "execution_count": 4,
   "id": "a31206f6-6826-4b47-a058-9a5c834fb0a8",
   "metadata": {},
   "outputs": [],
   "source": [
    "# for name, module in model.named_modules():\n",
    "#     # if isinstance(module, torch.nn.Linear):\n",
    "#     #     print(name, \"→\", module)\n",
    "#     print(name)"
   ]
  },
  {
   "cell_type": "code",
   "execution_count": 5,
   "id": "252e4029-5f0d-44b4-a3f9-eb1a368a82d1",
   "metadata": {},
   "outputs": [],
   "source": [
    "LAYER_DICT = {\n",
    "    \"vision_mlp_fc1\": \"vision_tower.vision_model.encoder.layers.6.mlp.fc1\",\n",
    "    \"vision_attn_out\": \"vision_tower.vision_model.encoder.layers.6.self_attn.out_proj\",\n",
    "    \"fusion_proj\": \"multi_modal_projector.linear\",\n",
    "    \"language_mlp_down\": \"language_model.model.layers.6.mlp.down_proj\",\n",
    "}\n",
    "\n",
    "layer_name = LAYER_DICT[\"fusion_proj\"] \n",
    "\n",
    "hook_acts = {}\n",
    "\n",
    "def hook(module, input, output):\n",
    "    hook_acts[\"activation\"] = output.detach().cpu()\n",
    "\n",
    "from functools import reduce\n",
    "\n",
    "def get_module_by_name(model, path):\n",
    "    return reduce(getattr, path.split(\".\"), model)"
   ]
  },
  {
   "cell_type": "code",
   "execution_count": 6,
   "id": "5057f00d-a5df-4c3b-b308-fcf95605c40e",
   "metadata": {},
   "outputs": [
    {
     "name": "stdout",
     "output_type": "stream",
     "text": [
      "env: TOKENIZERS_PARALLELISM=false\n"
     ]
    }
   ],
   "source": [
    "%env TOKENIZERS_PARALLELISM=false"
   ]
  },
  {
   "cell_type": "code",
   "execution_count": 7,
   "id": "794a8841-66c8-4048-967e-b734ee561091",
   "metadata": {},
   "outputs": [
    {
     "data": {
      "application/vnd.jupyter.widget-view+json": {
       "model_id": "50152249394748e89e7eb0f74c3ebf2a",
       "version_major": 2,
       "version_minor": 0
      },
      "text/plain": [
       "Inference on cuda:0:   0%|                                                                                    …"
      ]
     },
     "metadata": {},
     "output_type": "display_data"
    },
    {
     "data": {
      "application/vnd.jupyter.widget-view+json": {
       "model_id": "4751a3db036a41d384f230bc2bc854bc",
       "version_major": 2,
       "version_minor": 0
      },
      "text/plain": [
       "Inference on cuda:1:   0%|                                                                                    …"
      ]
     },
     "metadata": {},
     "output_type": "display_data"
    },
    {
     "name": "stdout",
     "output_type": "stream",
     "text": [
      "Collected activations: torch.Size([400, 256, 2048])\n",
      "Sum of tokens recorded: 102400\n"
     ]
    }
   ],
   "source": [
    "from torch import amp  # for fix 3\n",
    "\n",
    "# === Config ===\n",
    "BATCH_SIZE = 2\n",
    "NUM_WORKERS = 8\n",
    "\n",
    "def collate_fn(batch):\n",
    "    images = [example[\"image\"] for example in batch]\n",
    "    prompts = [example[\"prompt\"] for example in batch]\n",
    "    return {\"images\": images, \"prompts\": prompts}\n",
    "\n",
    "# === Split dataset across GPUs ===\n",
    "half = len(dataset) // 2\n",
    "datasets = [Subset(dataset, range(0, half)), Subset(dataset, range(half, len(dataset)))]\n",
    "devices = [\"cuda:0\", \"cuda:1\"]\n",
    "activation_lists = [[], []]\n",
    "token_counts = [[], []]\n",
    "\n",
    "\n",
    "from tqdm.auto import tqdm  # use auto for better notebook/thread compatibility\n",
    "from io import StringIO\n",
    "\n",
    "def run_inference(model, dataloader, device, activations_out, token_counts_out, layer_path):\n",
    "    model = model.to(device).eval()\n",
    "    hook_acts = {}\n",
    "\n",
    "    def hook(module, input, output):\n",
    "        hook_acts[\"activation\"] = output.detach().cpu()\n",
    "\n",
    "    handle = get_module_by_name(model, layer_path).register_forward_hook(hook)\n",
    "\n",
    "    progress_bar = tqdm(\n",
    "        dataloader,\n",
    "        desc=f\"Inference on {device}\",\n",
    "        leave=True,\n",
    "        dynamic_ncols=True,\n",
    "        position=0 if device == \"cuda:0\" else 1  # prevent conflict\n",
    "    )\n",
    "\n",
    "    for batch in progress_bar:\n",
    "        torch.cuda.empty_cache()\n",
    "        hook_acts.clear()\n",
    "\n",
    "        images = batch[\"images\"]\n",
    "        prompts = [f\"<image> {p}\" for p in batch[\"prompts\"]]\n",
    "\n",
    "        model_inputs = processor(\n",
    "            text=prompts,\n",
    "            images=images,\n",
    "            return_tensors=\"pt\",\n",
    "            padding=True,\n",
    "            do_rescale=False\n",
    "        )\n",
    "        model_inputs = {k: v.to(device, non_blocking=True) for k, v in model_inputs.items()}\n",
    "\n",
    "        with torch.no_grad(), amp.autocast(device_type=\"cuda\", dtype=torch.bfloat16):\n",
    "            _ = model(**model_inputs)\n",
    "\n",
    "        act = hook_acts[\"activation\"]\n",
    "        if isinstance(act, tuple):\n",
    "            act = act[0]\n",
    "\n",
    "        activations_out.append(act.cpu().float())\n",
    "        token_counts_out.extend([act.shape[1]] * act.size(0))\n",
    "\n",
    "    handle.remove()\n",
    "\n",
    "    \n",
    "from threading import Thread\n",
    "from torch.utils.data import DataLoader\n",
    "import copy\n",
    "\n",
    "dataloaders = [\n",
    "    DataLoader(datasets[0], batch_size=BATCH_SIZE, collate_fn=collate_fn,\n",
    "               num_workers=NUM_WORKERS, pin_memory=True),\n",
    "    DataLoader(datasets[1], batch_size=BATCH_SIZE, collate_fn=collate_fn,\n",
    "               num_workers=NUM_WORKERS, pin_memory=True)\n",
    "]\n",
    "\n",
    "models = [copy.deepcopy(model), copy.deepcopy(model)]\n",
    "threads = []\n",
    "\n",
    "for i in range(2):\n",
    "    t = Thread(target=run_inference, args=(\n",
    "        models[i], dataloaders[i], devices[i], activation_lists[i], token_counts[i], layer_name))\n",
    "    t.start()\n",
    "    threads.append(t)\n",
    "\n",
    "for t in threads:\n",
    "    t.join()\n",
    "\n",
    "all_activations = torch.cat(activation_lists[0] + activation_lists[1], dim=0)\n",
    "image_to_token_counts = token_counts[0] + token_counts[1]\n",
    "\n",
    "if all_activations.size(0) == 0:\n",
    "    raise ValueError(\"No valid activations collected!\")\n",
    "\n",
    "print(\"Collected activations:\", all_activations.shape)\n",
    "print(\"Sum of tokens recorded:\", sum(image_to_token_counts))\n",
    "\n",
    "del models, activation_lists, token_counts, datasets, dataloaders, hook_acts\n",
    "gc.collect()\n",
    "torch.cuda.empty_cache()"
   ]
  },
  {
   "cell_type": "code",
   "execution_count": 8,
   "id": "6d97dc92",
   "metadata": {},
   "outputs": [],
   "source": [
    "# # # Convert to half precision before saving (cuts size in half)\n",
    "# # all_activations_fp16 = all_activations.half()\n",
    "# torch.save(all_activations.cpu(), \"all_activations_safaa.pt\")\n",
    "# torch.save(image_to_token_counts, \"image_to_token_counts_safaa.pt\")"
   ]
  },
  {
   "cell_type": "code",
   "execution_count": null,
   "id": "ea5310fd-c2bb-46f9-84ad-7666caccc7ba",
   "metadata": {},
   "outputs": [],
   "source": []
  },
  {
   "cell_type": "code",
   "execution_count": 9,
   "id": "92486537-06d1-4e85-a136-02e0824bc867",
   "metadata": {},
   "outputs": [],
   "source": [
    "# # === Load previously saved activations and token counts ===\n",
    "# all_activations = torch.load(\"all_activations_safaa.pt\")\n",
    "# image_to_token_counts = torch.load(\"image_to_token_counts_safaa.pt\")\n",
    "\n",
    "# print(\"Loaded activations shape:\", all_activations.shape)\n",
    "# print(\"Loaded token count length:\", len(image_to_token_counts))\n",
    "# all_activations = all_activations.to(device)  # or use your device variable"
   ]
  },
  {
   "cell_type": "markdown",
   "id": "bd443669",
   "metadata": {},
   "source": [
    "### Train SAE"
   ]
  },
  {
   "cell_type": "code",
   "execution_count": 10,
   "id": "a45b6b0e-8735-46fd-9f1e-42033fd83412",
   "metadata": {},
   "outputs": [
    {
     "name": "stderr",
     "output_type": "stream",
     "text": [
      "\u001b[34m\u001b[1mwandb\u001b[0m: Currently logged in as: \u001b[33mhtsai\u001b[0m (\u001b[33mhtsai2025\u001b[0m) to \u001b[32mhttps://api.wandb.ai\u001b[0m. Use \u001b[1m`wandb login --relogin`\u001b[0m to force relogin\n"
     ]
    },
    {
     "data": {
      "text/html": [
       "Tracking run with wandb version 0.19.10"
      ],
      "text/plain": [
       "<IPython.core.display.HTML object>"
      ]
     },
     "metadata": {},
     "output_type": "display_data"
    },
    {
     "data": {
      "text/html": [
       "Run data is saved locally in <code>/home/henrytsai/safaa/roboterp/wandb/run-20250505_015745-72xfved9</code>"
      ],
      "text/plain": [
       "<IPython.core.display.HTML object>"
      ]
     },
     "metadata": {},
     "output_type": "display_data"
    },
    {
     "data": {
      "text/html": [
       "Syncing run <strong><a href='https://wandb.ai/htsai2025/sparse-autoencoder/runs/72xfved9' target=\"_blank\">SAE_new_notebook_test</a></strong> to <a href='https://wandb.ai/htsai2025/sparse-autoencoder' target=\"_blank\">Weights & Biases</a> (<a href='https://wandb.me/developer-guide' target=\"_blank\">docs</a>)<br>"
      ],
      "text/plain": [
       "<IPython.core.display.HTML object>"
      ]
     },
     "metadata": {},
     "output_type": "display_data"
    },
    {
     "data": {
      "text/html": [
       " View project at <a href='https://wandb.ai/htsai2025/sparse-autoencoder' target=\"_blank\">https://wandb.ai/htsai2025/sparse-autoencoder</a>"
      ],
      "text/plain": [
       "<IPython.core.display.HTML object>"
      ]
     },
     "metadata": {},
     "output_type": "display_data"
    },
    {
     "data": {
      "text/html": [
       " View run at <a href='https://wandb.ai/htsai2025/sparse-autoencoder/runs/72xfved9' target=\"_blank\">https://wandb.ai/htsai2025/sparse-autoencoder/runs/72xfved9</a>"
      ],
      "text/plain": [
       "<IPython.core.display.HTML object>"
      ]
     },
     "metadata": {},
     "output_type": "display_data"
    },
    {
     "name": "stdout",
     "output_type": "stream",
     "text": [
      "Epoch 1 started...\n"
     ]
    },
    {
     "name": "stderr",
     "output_type": "stream",
     "text": [
      "Epoch 1:   8%|█████████████                                                                                                                                                            | 1/13 [00:00<00:08,  1.37it/s]/home/henrytsai/anaconda3/envs/safaa/lib/python3.10/site-packages/torch/nn/modules/linear.py:125: UserWarning: Attempting to run cuBLAS, but there was no current CUDA context! Attempting to set the primary context... (Triggered internally at ../aten/src/ATen/cuda/CublasHandlePool.cpp:135.)\n",
      "  return F.linear(input, self.weight, self.bias)\n",
      "                                                                                                                                                                                                                      "
     ]
    },
    {
     "name": "stdout",
     "output_type": "stream",
     "text": [
      "Epoch 2 started...\n"
     ]
    },
    {
     "name": "stderr",
     "output_type": "stream",
     "text": [
      "                                                                                                                                                                                                                      "
     ]
    },
    {
     "name": "stdout",
     "output_type": "stream",
     "text": [
      "Epoch 3 started...\n"
     ]
    },
    {
     "name": "stderr",
     "output_type": "stream",
     "text": [
      "                                                                                                                                                                                                                      "
     ]
    },
    {
     "name": "stdout",
     "output_type": "stream",
     "text": [
      "Epoch 4 started...\n"
     ]
    },
    {
     "name": "stderr",
     "output_type": "stream",
     "text": [
      "                                                                                                                                                                                                                      "
     ]
    },
    {
     "name": "stdout",
     "output_type": "stream",
     "text": [
      "Epoch 5 started...\n"
     ]
    },
    {
     "name": "stderr",
     "output_type": "stream",
     "text": [
      "                                                                                                                                                                                                                      "
     ]
    },
    {
     "name": "stdout",
     "output_type": "stream",
     "text": [
      "Epoch 5: Loss 0.083569\n",
      "Epoch 6 started...\n"
     ]
    },
    {
     "name": "stderr",
     "output_type": "stream",
     "text": [
      "                                                                                                                                                                                                                      "
     ]
    },
    {
     "name": "stdout",
     "output_type": "stream",
     "text": [
      "Epoch 7 started...\n"
     ]
    },
    {
     "name": "stderr",
     "output_type": "stream",
     "text": [
      "                                                                                                                                                                                                                      "
     ]
    },
    {
     "name": "stdout",
     "output_type": "stream",
     "text": [
      "Epoch 8 started...\n"
     ]
    },
    {
     "name": "stderr",
     "output_type": "stream",
     "text": [
      "                                                                                                                                                                                                                      "
     ]
    },
    {
     "name": "stdout",
     "output_type": "stream",
     "text": [
      "Epoch 9 started...\n"
     ]
    },
    {
     "name": "stderr",
     "output_type": "stream",
     "text": [
      "                                                                                                                                                                                                                      "
     ]
    },
    {
     "name": "stdout",
     "output_type": "stream",
     "text": [
      "Epoch 10 started...\n"
     ]
    },
    {
     "name": "stderr",
     "output_type": "stream",
     "text": [
      "                                                                                                                                                                                                                      "
     ]
    },
    {
     "name": "stdout",
     "output_type": "stream",
     "text": [
      "Epoch 10: Loss 0.039506\n",
      "Saved SAE to checkpoints/sae_2025-05-05_01-57-46.pth\n"
     ]
    },
    {
     "data": {
      "image/png": "[encoded data removed]",
      "text/plain": [
       "<Figure size 640x480 with 1 Axes>"
      ]
     },
     "metadata": {},
     "output_type": "display_data"
    },
    {
     "name": "stdout",
     "output_type": "stream",
     "text": [
      "Logged run to sae_run_log.csv\n"
     ]
    }
   ],
   "source": [
    "# === Config and Hyperparameters ===\n",
    "HIDDEN_MULTIPLIER = 8\n",
    "LEARNING_RATE = 1e-4\n",
    "SPARSITY_WEIGHT = 1e-2\n",
    "N_EPOCHS = 10\n",
    "BATCH_SIZE = 32\n",
    "NAME_OF_RUN = \"SAE_new_notebook_test\"\n",
    "csv_log_path = \"sae_run_log.csv\"\n",
    "save_dir = \"checkpoints\"\n",
    "os.makedirs(save_dir, exist_ok=True)\n",
    "\n",
    "# === Initialize Weights & Biases ===\n",
    "wandb.init(project=\"sparse-autoencoder\", name=NAME_OF_RUN, config={\n",
    "    \"hidden_multiplier\": HIDDEN_MULTIPLIER,\n",
    "    \"learning_rate\": LEARNING_RATE,\n",
    "    \"sparsity_weight\": SPARSITY_WEIGHT,\n",
    "    \"n_epochs\": N_EPOCHS,\n",
    "    \"batch_size\": BATCH_SIZE,\n",
    "})\n",
    "\n",
    "# === Model Setup ===\n",
    "d_in = all_activations.shape[-1]\n",
    "d_hidden = HIDDEN_MULTIPLIER * d_in\n",
    "\n",
    "sae = SparseAutoencoder(d_in=d_in, d_hidden=d_hidden).to(device)\n",
    "sae = torch.nn.DataParallel(sae)  # Split across all visible GPUs\n",
    "\n",
    "optimizer = torch.optim.AdamW(sae.parameters(), lr=LEARNING_RATE)\n",
    "loss_fn = torch.nn.MSELoss()\n",
    "\n",
    "# === DataLoader ===\n",
    "train_dataset = torch.utils.data.TensorDataset(all_activations)\n",
    "train_loader = torch.utils.data.DataLoader(train_dataset, batch_size=BATCH_SIZE, shuffle=True, pin_memory=True)\n",
    "\n",
    "from tqdm import tqdm\n",
    "\n",
    "# === Training Loop ===\n",
    "epoch_losses = []\n",
    "timestamp = datetime.now().strftime(\"%Y-%m-%d_%H-%M-%S\")\n",
    "\n",
    "for epoch in range(N_EPOCHS):\n",
    "    sae.train()\n",
    "    epoch_loss = 0.0\n",
    "    print(f\"Epoch {epoch+1} started...\")\n",
    "\n",
    "    for (batch,) in tqdm(train_loader, desc=f\"Epoch {epoch+1}\", leave=False):\n",
    "        batch = batch.to(next(sae.parameters()).device, non_blocking=True)\n",
    "        recon, z = sae(batch)\n",
    "\n",
    "        loss = loss_fn(recon, batch) + SPARSITY_WEIGHT * torch.mean(torch.abs(z))\n",
    "        epoch_loss += loss.item() * batch.size(0)\n",
    "\n",
    "        optimizer.zero_grad()\n",
    "        loss.backward()\n",
    "        optimizer.step()\n",
    "\n",
    "    avg_loss = epoch_loss / len(train_dataset)\n",
    "    epoch_losses.append(avg_loss)\n",
    "\n",
    "    wandb.log({\"loss\": avg_loss, \"epoch\": epoch + 1})\n",
    "\n",
    "    if (epoch + 1) % 5 == 0 or epoch == N_EPOCHS - 1:\n",
    "        print(f\"Epoch {epoch+1}: Loss {avg_loss:.6f}\")\n",
    "\n",
    "\n",
    "# === Save model checkpoint ===\n",
    "model_path = os.path.join(save_dir, f\"sae_{timestamp}.pth\")\n",
    "torch.save({\n",
    "    \"state_dict\": sae.state_dict(),\n",
    "    \"d_in\": d_in,\n",
    "    \"d_hidden\": d_hidden,\n",
    "}, model_path)\n",
    "wandb.save(model_path)\n",
    "print(f\"Saved SAE to {model_path}\")\n",
    "\n",
    "# === Plot and log loss curve ===\n",
    "plt.plot(range(1, N_EPOCHS + 1), epoch_losses, label=\"Train Loss\")\n",
    "plt.xlabel(\"Epoch\")\n",
    "plt.ylabel(\"Loss\")\n",
    "plt.title(\"SAE Training Loss\")\n",
    "plt.grid(True)\n",
    "plt.tight_layout()\n",
    "wandb.log({\"loss_curve\": wandb.Image(plt)})\n",
    "plt.show()\n",
    "\n",
    "# === CSV logging ===\n",
    "run_config = {\n",
    "    \"run_name\": NAME_OF_RUN,\n",
    "    \"timestamp\": timestamp,\n",
    "    \"hidden_multiplier\": HIDDEN_MULTIPLIER,\n",
    "    \"learning_rate\": LEARNING_RATE,\n",
    "    \"sparsity_weight\": SPARSITY_WEIGHT,\n",
    "    \"n_epochs\": N_EPOCHS,\n",
    "    \"batch_size\": BATCH_SIZE,\n",
    "    \"d_in\": d_in,\n",
    "    \"d_hidden\": d_hidden,\n",
    "    \"final_loss\": avg_loss,\n",
    "    \"model_path\": model_path,\n",
    "}\n",
    "\n",
    "write_header = not os.path.exists(csv_log_path)\n",
    "with open(csv_log_path, mode=\"a\", newline=\"\") as csvfile:\n",
    "    writer = csv.DictWriter(csvfile, fieldnames=run_config.keys())\n",
    "    if write_header:\n",
    "        writer.writeheader()\n",
    "    writer.writerow(run_config)\n",
    "\n",
    "sae = sae.module\n",
    "\n",
    "print(f\"Logged run to {csv_log_path}\")"
   ]
  },
  {
   "cell_type": "markdown",
   "id": "03dbbe0f",
   "metadata": {},
   "source": [
    "### Load previously trained model"
   ]
  },
  {
   "cell_type": "markdown",
   "id": "7f511334",
   "metadata": {},
   "source": [
    "### Visualize features"
   ]
  },
  {
   "cell_type": "code",
   "execution_count": 17,
   "id": "fc47e289-9f2d-4714-bf58-1886a6417ad0",
   "metadata": {},
   "outputs": [
    {
     "ename": "RuntimeError",
     "evalue": "output with shape [16384] doesn't match the broadcast shape [256, 16384]",
     "output_type": "error",
     "traceback": [
      "\u001b[0;31m---------------------------------------------------------------------------\u001b[0m",
      "\u001b[0;31mRuntimeError\u001b[0m                              Traceback (most recent call last)",
      "Cell \u001b[0;32mIn[17], line 33\u001b[0m\n\u001b[1;32m     31\u001b[0m batch \u001b[38;5;241m=\u001b[39m all_activations[i:i \u001b[38;5;241m+\u001b[39m batch_size]\u001b[38;5;241m.\u001b[39mto(device\u001b[38;5;241m=\u001b[39mdevice)\n\u001b[1;32m     32\u001b[0m sparse \u001b[38;5;241m=\u001b[39m sae\u001b[38;5;241m.\u001b[39mactivation(sae\u001b[38;5;241m.\u001b[39mencoder(batch))  \u001b[38;5;66;03m# [B, d_hidden]\u001b[39;00m\n\u001b[0;32m---> 33\u001b[0m running_sum \u001b[38;5;241m+\u001b[39m\u001b[38;5;241m=\u001b[39m sparse\u001b[38;5;241m.\u001b[39msum(dim\u001b[38;5;241m=\u001b[39m\u001b[38;5;241m0\u001b[39m)             \u001b[38;5;66;03m# [d_hidden]\u001b[39;00m\n\u001b[1;32m     34\u001b[0m count \u001b[38;5;241m+\u001b[39m\u001b[38;5;241m=\u001b[39m sparse\u001b[38;5;241m.\u001b[39msize(\u001b[38;5;241m0\u001b[39m)\n\u001b[1;32m     35\u001b[0m sparse_feature_list\u001b[38;5;241m.\u001b[39mappend(sparse\u001b[38;5;241m.\u001b[39mcpu())\n",
      "\u001b[0;31mRuntimeError\u001b[0m: output with shape [16384] doesn't match the broadcast shape [256, 16384]"
     ]
    }
   ],
   "source": [
    "from torchvision.transforms.functional import to_pil_image\n",
    "from concurrent.futures import ThreadPoolExecutor\n",
    "import matplotlib.pyplot as plt\n",
    "import numpy as np\n",
    "\n",
    "# ==== CONFIG ====\n",
    "top_k = 5\n",
    "n_features_to_plot = 15\n",
    "batch_size = 4096\n",
    "num_workers = 8\n",
    "\n",
    "# ==== STREAM ENCODE ====\n",
    "sparse_feature_list = []\n",
    "running_sum = torch.zeros(sae.decoder.in_features, device=device)\n",
    "count = 0\n",
    "\n",
    "# with torch.no_grad():\n",
    "#     for i in range(0, all_activations.size(0), batch_size):\n",
    "#         batch = all_activations[i:i + batch_size].to(device=device)\n",
    "#         sparse = sae.activation(sae.encoder(batch))\n",
    "#         running_sum += sparse.sum(dim=0)\n",
    "#         count += sparse.size(0)\n",
    "#         sparse_feature_list.append(sparse.cpu())\n",
    "\n",
    "sparse_feature_list = []\n",
    "running_sum = torch.zeros(sae.encoder.out_features, device=device)\n",
    "count = 0\n",
    "\n",
    "with torch.no_grad():\n",
    "    for i in range(0, all_activations.size(0), batch_size):\n",
    "        batch = all_activations[i:i + batch_size].to(device=device)\n",
    "        sparse = sae.activation(sae.encoder(batch))  # [B, d_hidden]\n",
    "        running_sum += sparse.sum(dim=0)             # [d_hidden]\n",
    "        count += sparse.size(0)\n",
    "        sparse_feature_list.append(sparse.cpu())\n",
    "\n",
    "sparse_features = torch.cat(sparse_feature_list, dim=0)\n",
    "\n",
    "# ==== TOKEN TO IMAGE INDEX MAPPING ====\n",
    "image_indices_per_token = []\n",
    "for img_idx, n_tokens in enumerate(image_to_token_counts):\n",
    "    image_indices_per_token.extend([img_idx] * n_tokens)\n",
    "image_indices_per_token = np.array(image_indices_per_token)\n",
    "\n",
    "# ==== TOP FEATURES ====\n",
    "mean_features = running_sum / count\n",
    "top_features = torch.topk(mean_features, k=n_features_to_plot).indices.tolist()\n",
    "print(f\"Top {n_features_to_plot} active features:\", top_features)\n",
    "\n",
    "# ==== IMAGE & TEXT LOADER ====\n",
    "def load_img_and_text(idx):\n",
    "    img_idx = int(image_indices_per_token[idx])\n",
    "    entry = dataset[img_idx]\n",
    "    # Convert image tensor to PIL and then to numpy for plotting\n",
    "    image_tensor = entry[\"image\"]\n",
    "    image_pil = to_pil_image(image_tensor)\n",
    "    prompt = entry[\"prompt\"]\n",
    "    return np.array(image_pil), prompt\n",
    "\n",
    "# ==== DISPLAY LOOP ====\n",
    "for feature_idx in top_features:\n",
    "    activations = sparse_features[:, feature_idx]\n",
    "    topk_indices = torch.topk(activations, k=top_k).indices.cpu().tolist()\n",
    "\n",
    "    # Load image-prompt pairs\n",
    "    with ThreadPoolExecutor(max_workers=num_workers) as executor:\n",
    "        img_and_text = list(executor.map(load_img_and_text, topk_indices))\n",
    "\n",
    "    images, prompts = zip(*img_and_text)\n",
    "\n",
    "    # Plot results\n",
    "    fig, axes = plt.subplots(1, top_k, figsize=(3 * top_k, 4))\n",
    "    fig.suptitle(f\"Feature {feature_idx} (Top {top_k} Activations)\", fontsize=14)\n",
    "\n",
    "    for ax, img, text in zip(axes, images, prompts):\n",
    "        ax.imshow(img)\n",
    "        ax.set_title(text, fontsize=8, wrap=True)\n",
    "        ax.axis(\"off\")\n",
    "\n",
    "    plt.tight_layout()\n",
    "    plt.show()"
   ]
  },
  {
   "cell_type": "markdown",
   "id": "906de685",
   "metadata": {},
   "source": [
    "### Sparsity analysis"
   ]
  },
  {
   "cell_type": "code",
   "execution_count": null,
   "id": "107237bd",
   "metadata": {},
   "outputs": [],
   "source": [
    "# Assume `sae` is already loaded and on the correct device\n",
    "device = torch.device(\"cuda:0\" if torch.cuda.is_available() else \"cpu\")\n",
    "sae = sae.to(device)\n",
    "sae.eval()\n",
    "\n",
    "# Compute feature usage (mean |z|) without storing all z\n",
    "d_hidden = sae.module.encoder.out_features if isinstance(sae, torch.nn.DataParallel) else sae.encoder.out_features\n",
    "running_sum = torch.zeros(d_hidden, device=device)\n",
    "count = 0\n",
    "\n",
    "with torch.no_grad():\n",
    "    for (batch,) in train_loader:\n",
    "        batch = batch.to(device, non_blocking=True)\n",
    "        _, z = sae(batch)                      # shape: [B, d_hidden] or [B, T, d_hidden]\n",
    "        z = z.view(-1, z.shape[-1])            # flatten in case it's [B, T, d_hidden]\n",
    "        running_sum += torch.sum(torch.abs(z), dim=0)\n",
    "        count += z.shape[0]\n",
    "\n",
    "feature_usage = running_sum / count\n",
    "\n",
    "# Plot\n",
    "plt.figure(figsize=(8, 4))\n",
    "plt.hist(feature_usage.cpu().numpy(), bins=100)\n",
    "plt.title(\"Feature Usage Distribution\")\n",
    "plt.xlabel(\"Mean |z|\")\n",
    "plt.ylabel(\"# Features\")\n",
    "plt.grid(True)\n",
    "plt.tight_layout()\n",
    "plt.show()\n"
   ]
  },
  {
   "cell_type": "code",
   "execution_count": null,
   "id": "59f0c9cf",
   "metadata": {},
   "outputs": [],
   "source": []
  }
 ],
 "metadata": {
  "kernelspec": {
   "display_name": "Python (safaa)",
   "language": "python",
   "name": "safaa"
  },
  "language_info": {
   "codemirror_mode": {
    "name": "ipython",
    "version": 3
   },
   "file_extension": ".py",
   "mimetype": "text/x-python",
   "name": "python",
   "nbconvert_exporter": "python",
   "pygments_lexer": "ipython3",
   "version": "3.10.16"
  }
 },
 "nbformat": 4,
 "nbformat_minor": 5
}
